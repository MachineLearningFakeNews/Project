{
 "cells": [
  {
   "cell_type": "code",
   "execution_count": 2,
   "metadata": {
    "collapsed": false
   },
   "outputs": [
    {
     "name": "stdout",
     "output_type": "stream",
     "text": [
      "(36447, 3000) <class 'scipy.sparse.csr.csr_matrix'>\n",
      "(36447, 1) <class 'pandas.core.frame.DataFrame'>\n",
      "Training SVM model with different C:\n",
      "C value: 0.000100\n"
     ]
    },
    {
     "name": "stderr",
     "output_type": "stream",
     "text": [
      "/opt/conda/lib/python3.6/site-packages/sklearn/metrics/classification.py:1113: UndefinedMetricWarning: F-score is ill-defined and being set to 0.0 in labels with no predicted samples.\n",
      "  'precision', 'predicted', average, warn_for)\n",
      "/opt/conda/lib/python3.6/site-packages/sklearn/metrics/classification.py:1113: UndefinedMetricWarning: Precision is ill-defined and being set to 0.0 in labels with no predicted samples.\n",
      "  'precision', 'predicted', average, warn_for)\n"
     ]
    },
    {
     "name": "stdout",
     "output_type": "stream",
     "text": [
      "----------------------------------------\n",
      "C value: 0.001000\n",
      "----------------------------------------\n",
      "C value: 0.010000\n",
      "----------------------------------------\n",
      "C value: 0.100000\n",
      "----------------------------------------\n",
      "C value: 1.000000\n",
      "----------------------------------------\n",
      "C value: 10.000000\n",
      "----------------------------------------\n",
      "Training model : NB\n",
      "Training model : LR\n",
      "Training model : SGD\n",
      "+-------------------+-------+-------+-----------+--------+\n",
      "|       Model       |  Acc  |  f1   | Precision | Recall |\n",
      "+===================+=======+=======+===========+========+\n",
      "| NB                | 0.900 | 0.488 | 0.817     | 0.507  |\n",
      "+-------------------+-------+-------+-----------+--------+\n",
      "| LR                | 0.902 | 0.510 | 0.810     | 0.518  |\n",
      "+-------------------+-------+-------+-----------+--------+\n",
      "| SGD               | 0.900 | 0.484 | 0.895     | 0.505  |\n",
      "+-------------------+-------+-------+-----------+--------+\n",
      "| SVM, C: 0.000100  | 0.899 | 0.473 | 0.450     | 0.500  |\n",
      "+-------------------+-------+-------+-----------+--------+\n",
      "| SVM, C: 0.001000  | 0.899 | 0.473 | 0.450     | 0.500  |\n",
      "+-------------------+-------+-------+-----------+--------+\n",
      "| SVM, C: 0.010000  | 0.899 | 0.473 | 0.450     | 0.500  |\n",
      "+-------------------+-------+-------+-----------+--------+\n",
      "| SVM, C: 0.100000  | 0.899 | 0.473 | 0.450     | 0.500  |\n",
      "+-------------------+-------+-------+-----------+--------+\n",
      "| SVM, C: 1.000000  | 0.900 | 0.484 | 0.895     | 0.505  |\n",
      "+-------------------+-------+-------+-----------+--------+\n",
      "| SVM, C: 10.000000 | 0.895 | 0.550 | 0.659     | 0.541  |\n",
      "+-------------------+-------+-------+-----------+--------+\n"
     ]
    },
    {
     "data": {
      "image/png": "[encoded data removed]",
      "text/plain": [
       "<matplotlib.figure.Figure at 0x7fe494691a90>"
      ]
     },
     "metadata": {},
     "output_type": "display_data"
    }
   ],
   "source": [
    "%run ../train_model.py"
   ]
  }
 ],
 "metadata": {
  "kernelspec": {
   "display_name": "Python 3",
   "language": "python",
   "name": "python3"
  },
  "language_info": {
   "codemirror_mode": {
    "name": "ipython",
    "version": 3
   },
   "file_extension": ".py",
   "mimetype": "text/x-python",
   "name": "python",
   "nbconvert_exporter": "python",
   "pygments_lexer": "ipython3",
   "version": "3.6.0"
  }
 },
 "nbformat": 4,
 "nbformat_minor": 2
}
