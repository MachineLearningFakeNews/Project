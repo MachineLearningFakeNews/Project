{
 "cells": [
  {
   "cell_type": "code",
   "execution_count": 1,
   "metadata": {
    "collapsed": false
   },
   "outputs": [],
   "source": [
    "import sys\n",
    "sys.path.append('../')\n",
    "\n",
    "import numpy as np\n",
    "import pandas as pd\n",
    "import matplotlib.pyplot as plt\n",
    "from sklearn.decomposition import TruncatedSVD\n",
    "from sklearn.externals import joblib\n",
    "from importlib import reload\n",
    "from matplotlib.colors import ListedColormap\n",
    "\n",
    "np.random.seed(42)"
   ]
  },
  {
   "cell_type": "code",
   "execution_count": 2,
   "metadata": {
    "collapsed": true
   },
   "outputs": [],
   "source": [
    "import train_model"
   ]
  },
  {
   "cell_type": "code",
   "execution_count": 3,
   "metadata": {
    "collapsed": false
   },
   "outputs": [],
   "source": [
    "#reload(train_model) # rerun if script was modified"
   ]
  },
  {
   "cell_type": "code",
   "execution_count": 4,
   "metadata": {
    "collapsed": true
   },
   "outputs": [],
   "source": [
    "import preprocess"
   ]
  },
  {
   "cell_type": "code",
   "execution_count": 5,
   "metadata": {
    "collapsed": true
   },
   "outputs": [],
   "source": [
    "#reload(preprocess) # rerun if script was modified"
   ]
  },
  {
   "cell_type": "code",
   "execution_count": 6,
   "metadata": {
    "collapsed": false
   },
   "outputs": [],
   "source": [
    "model = joblib.load('../model.pkl')"
   ]
  },
  {
   "cell_type": "code",
   "execution_count": 7,
   "metadata": {
    "collapsed": true
   },
   "outputs": [],
   "source": [
    "with open('../article_sample.txt', 'r') as myfile:\n",
    "    article = myfile.read().replace('\\n', '')"
   ]
  },
  {
   "cell_type": "code",
   "execution_count": 8,
   "metadata": {
    "collapsed": false
   },
   "outputs": [
    {
     "name": "stdout",
     "output_type": "stream",
     "text": [
      "<ORG> <NORP> government officials discussed having potentially derogatory information then-presidential candidate <PERSON> aides conversations intercepted <GPE> intelligence <DATE> election according <CARDINAL> intelligence officials congressional source.One source described information financial nature said discussion centered <NORP> leverage Trump's inner circle The source said intercepted communications suggested <GPE> intelligence <NORP> believed ability influence administration derogatory information.\"OPINION <PERSON> home aloneBut sources privy descriptions communications written <GPE> intelligence cautioned <NORP> claims <CARDINAL> exaggerated disinformation campaign <NORP> did election.The details communication shed new light information <GPE> intelligence received <NORP> claims influence The contents conversations clear <GPE> officials <GPE> considering ways influence election claims turned false.None sources say specific <PERSON> aides discussed <CARDINAL> officials said intelligence report masked <NORP> names clear conversations revolved <PERSON> campaign team Another source specifics citing classified nature <NORP> overstating belief influence said <CARDINAL> sources.Clapper No doubt <GPE> meddling 00:50As <ORG> <ORDINAL> reported <GPE> intercepted discussions <NORP> officials bragging cultivating relationships <PERSON> campaign aides campaign including Trump's <ORDINAL> national security adviser <PERSON> influence <PERSON> Following CNN's report <ORG> said Trump's campaign chairman <PERSON> discussed.A <ORG> spokesman told <ORG> This round false unverified claims anonymous sources smear President The reality review President's income <DATE> showed virtually financial ties There appears limit President's political opponents perpetuate false narrative including illegally leaking classified material All does play hands adversaries country risk.\"The <ORG> declined comment story <ORG> Director <ORG> <PERSON> did return calls seeking comment.READ Donald Trump's <PERSON> denied received illicit finances denied wrongdoing connection work <PERSON> foreign officials joining <PERSON> campaign He offered testify congressional committees investigating Russia's election interference.The <ORG> investigation <NORP> meddling <GPE> election recently handed <FAC> includes seeking answers coordination associates <PERSON> includes examining financial dealings key <PERSON> associates The <ORG> comment claims discussed intercepts verified.But <GPE> counterintelligence investigators looking <NORP> claims <DATE> public aware similar claims dossier created political opponents <PERSON> <NORP> spy The spy <PERSON> shared findings <ORG> <DATE> <ORG> able verify allegations derogatory information dossier current <GPE> officials say Russia-to-Russia conversations dossier corroborated.By time <PERSON> took office questions aides financial dealings <NORP> entities investigation.Soon <NORP> convention <GPE> stepped aside questions off-the-book payments received joining <PERSON> campaign consulting Russia-friendly <NORP> President <PERSON> political allies officials told <ORG> summer.RELATED Who's Trump-Russia sagaIn addition <DATE> visit <GPE> <PERSON> caught attention <GPE> intelligence officials multiple sources tell <ORG> On trip <PERSON> appeared alongside <PERSON> gala honor <NORP> state media outlet RT.That visit followed increase conversations <PERSON> Russia's ambassador <GPE> according officials familiar matter.Flynn faces multiple investigations failing disclose security clearance forms payments received <GPE> trip <NORP> entities addition questions lobbying did Turkey.The President denied having financial ties <GPE> But company business dealings country years.Comments President's sons currently run <PERSON> Organization's sprawling business raised questions ties Russia.Trump voters speak <GPE> probe 05:38In <DATE> Donald <PERSON> Jr said forum real estate markets Trump's businesses lot money pouring <GPE> <DATE> journalist <PERSON> claimed <DATE> Eric <PERSON> told golf business did need <NORP> investment funding need <GPE> Eric <PERSON> vigorously denied remark.RELATED The <GPE> investigation Everything need knowTrump's personal attorneys recently released letter asserting <DATE> tax returns exceptions income <NORP> sources including debt owed paid <NORP> lenders <PERSON> business entities In break <DATE> tradition President refused release tax returns.But letter acknowledges business <GPE> past The <ORDINAL> income <PERSON> received <DATE> Miss <ORG> pageant held Moscow <PERSON> sold <GPE> property <NORP> billionaire <CARDINAL> profit Lastly ordinary course sales goods services <NORP> <NORP> entities sales/rentals/fees condominiums hotel rooms rounds golf books Trump-licensed products.\"CNN's <PERSON> contributed report.\n"
     ]
    }
   ],
   "source": [
    "content = preprocess.preprocess(article) # http://www.cnn.com/2017/05/30/politics/russians-trump-campaign-information/\n",
    "print(content)"
   ]
  },
  {
   "cell_type": "code",
   "execution_count": 10,
   "metadata": {
    "collapsed": false
   },
   "outputs": [],
   "source": [
    "vectorizer = joblib.load('../vectorizer.pkl')"
   ]
  },
  {
   "cell_type": "code",
   "execution_count": 11,
   "metadata": {
    "collapsed": false
   },
   "outputs": [
    {
     "name": "stdout",
     "output_type": "stream",
     "text": [
      "(1, 3000)\n"
     ]
    }
   ],
   "source": [
    "tf_idf_vector = vectorizer.transform([article])\n",
    "print(tf_idf_vector.shape)"
   ]
  },
  {
   "cell_type": "code",
   "execution_count": 14,
   "metadata": {
    "collapsed": false
   },
   "outputs": [
    {
     "name": "stdout",
     "output_type": "stream",
     "text": [
      "[1]\n"
     ]
    }
   ],
   "source": [
    "label = model.predict(tf_idf_vector)\n",
    "print(label)"
   ]
  },
  {
   "cell_type": "code",
   "execution_count": 15,
   "metadata": {
    "collapsed": false
   },
   "outputs": [
    {
     "name": "stdout",
     "output_type": "stream",
     "text": [
      "unreliable\n"
     ]
    }
   ],
   "source": [
    "labels = ['reliable', 'unreliable']\n",
    "print(labels[label[0]])"
   ]
  }
 ],
 "metadata": {
  "kernelspec": {
   "display_name": "Python 3",
   "language": "python",
   "name": "python3"
  },
  "language_info": {
   "codemirror_mode": {
    "name": "ipython",
    "version": 3
   },
   "file_extension": ".py",
   "mimetype": "text/x-python",
   "name": "python",
   "nbconvert_exporter": "python",
   "pygments_lexer": "ipython3",
   "version": "3.6.0"
  }
 },
 "nbformat": 4,
 "nbformat_minor": 2
}
